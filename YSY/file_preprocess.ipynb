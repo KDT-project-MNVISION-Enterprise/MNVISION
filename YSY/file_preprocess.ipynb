{
 "cells": [
  {
   "cell_type": "markdown",
   "metadata": {},
   "source": [
    "- 주영님 코드 커비해서 파일들 전처리 시켜봄 "
   ]
  },
  {
   "cell_type": "code",
   "execution_count": 1,
   "metadata": {},
   "outputs": [],
   "source": [
    "import os\n",
    "\n",
    "def cleanup_folder(directory):\n",
    "    \"\"\"\n",
    "    YOLO 모델 학습 시 사용할 이미지 & 라벨데이터 정리하는 함수\n",
    "    - 크기가 0KB일 시 삭제\n",
    "    - 같은 이름의 이미지와 텍스트 파일이 없을 시, 즉 쌍이 아닌 파일은 삭제\n",
    "    \"\"\"\n",
    "    \n",
    "    # 해당 디렉토리의 파일 목록을 가져옴\n",
    "    files = os.listdir(directory)\n",
    "    \n",
    "    # .jpg 파일과 .txt 파일을 각각 저장할 세트를 생성\n",
    "    jpg_files = set()\n",
    "    txt_files = set()\n",
    "    \n",
    "    for file in files:\n",
    "        file_path = os.path.join(directory, file)\n",
    "        if os.path.getsize(file_path) == 0:\n",
    "                os.remove(file_path)    # 파일 크기가 0KB라면 삭제\n",
    "                continue\n",
    "        if file.endswith('.jpg'):\n",
    "            jpg_files.add(file[:-4])\n",
    "        elif file.endswith('.txt'):\n",
    "            txt_files.add(file[:-4])\n",
    "    \n",
    "    # 동일한 이름을 도출\n",
    "    common_files = jpg_files & txt_files\n",
    "    \n",
    "    # 해당 디렉토리의 파일 목록을 가져옴\n",
    "    files = os.listdir(directory)\n",
    "    \n",
    "    # 동일한 파일명의 쌍이 없을 경우 삭제\n",
    "    for file in files:\n",
    "        filename, ext = os.path.splitext(file)  # 파일명, 확장자 분리\n",
    "        if ext == '.jpg' and filename not in common_files:\n",
    "            os.remove(os.path.join(directory, file))\n",
    "        elif ext == '.txt' and filename not in common_files:\n",
    "            os.remove(os.path.join(directory, file))"
   ]
  },
  {
   "cell_type": "code",
   "execution_count": 3,
   "metadata": {},
   "outputs": [],
   "source": [
    "dir = \"C:/Users/DELL-PC/Desktop/YimSoYoung/data_class_5\"\n",
    "\n",
    "### 학습 시 사용할 이미지 & 라벨 파일 정리\n",
    "cleanup_folder(dir)"
   ]
  },
  {
   "cell_type": "code",
   "execution_count": null,
   "metadata": {},
   "outputs": [],
   "source": []
  }
 ],
 "metadata": {
  "kernelspec": {
   "display_name": "MNV",
   "language": "python",
   "name": "python3"
  },
  "language_info": {
   "codemirror_mode": {
    "name": "ipython",
    "version": 3
   },
   "file_extension": ".py",
   "mimetype": "text/x-python",
   "name": "python",
   "nbconvert_exporter": "python",
   "pygments_lexer": "ipython3",
   "version": "3.8.19"
  }
 },
 "nbformat": 4,
 "nbformat_minor": 2
}
