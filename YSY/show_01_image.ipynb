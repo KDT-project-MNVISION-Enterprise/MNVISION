{
 "cells": [
  {
   "cell_type": "markdown",
   "metadata": {},
   "source": [
    "### 알림 신호를 위한 랙의 좌표값 설정하기\n",
    "- GUI에서 좌표값을 받아야함!"
   ]
  },
  {
   "cell_type": "code",
   "execution_count": null,
   "metadata": {},
   "outputs": [],
   "source": [
    "# 일단 고정되어있다고 가정하자\n",
    "# cam 5\n",
    "# u_x1, u_y1, u_x2, u_y2 = 137, 32, 437, 189\n",
    "# d_x1, d_y1, d_x2, d_y2 = 110, 253, 363, 515\n",
    "\n",
    "# cam 6\n",
    "u_x1, u_y1, u_x2, u_y2 = 866, 294, 1111, 33\n",
    "l_x1, l_y1, l_x2, l_y2 = 897, 293, 1232, 547"
   ]
  },
  {
   "cell_type": "markdown",
   "metadata": {},
   "source": [
    "### 모델 불러와서 예측해보기 - 사진"
   ]
  },
  {
   "cell_type": "code",
   "execution_count": null,
   "metadata": {},
   "outputs": [],
   "source": [
    "from ultralytics import YOLO\n",
    "\n",
    "# 저장된 모델 불러오기\n",
    "num = 7\n",
    "model = YOLO(f'./runs/detect/train{num}/weights/best.onnx')"
   ]
  },
  {
   "cell_type": "code",
   "execution_count": null,
   "metadata": {},
   "outputs": [],
   "source": [
    "# 예측하기 - 사진\n",
    "\n",
    "file = \"C:/Users/kdp/Desktop/total_data_class_5/data_class_5/231231_1600_Cam6_C2 (1239).jpg\"\n",
    "\n",
    "\n",
    "results = model.predict(source = file, save=True, conf=0.25)\n",
    "\n",
    "# source : 예측할 이미지, 비디오 또는 웹캠의 경로나 인덱스를 지정\n",
    "# save : 예측 결과 저장 여부\n",
    "# conf : 예측 결과의 신뢰도 임계값을 지정함 "
   ]
  },
  {
   "cell_type": "code",
   "execution_count": null,
   "metadata": {},
   "outputs": [],
   "source": [
    "# 예측된 결과에서 좌표값 추출\n",
    "import cv2 \n",
    "\n",
    "for result in results:\n",
    "    boxes = result.boxes.xyxy.cpu().numpy()\n",
    "    class_ids = result.boxes.cls.cpu().numpy().astype(int)\n",
    "\n",
    "    # 원본 이미지 불러오기\n",
    "    img_bgr = cv2.imread(file)\n",
    "\n",
    "    # BGR 배열을 RGB 배열로 변환 \n",
    "    img_rgb = cv2.cvtColor(img_bgr, cv2.COLOR_BGR2RGB)\n",
    "\n",
    "    for box, class_id in zip(boxes, class_ids):\n",
    "        x1, y1, x2, y2 = box\n",
    "        label = model.names[class_id]\n",
    "        print(f\"좌표: ({x1}, {y1}) - ({x2}, {y2}) 라벨: {label}\")\n",
    "\n",
    "    if label == 'Person':\n",
    "        x1, y1, x2, y2 = map(int, [x1, y1, x2, y2])  # 좌표값을 정수로 변환\n",
    "        cv2.rectangle(img_rgb, (x1, y1), (x2, y2), (0, 255, 0), 2)\n",
    "        cv2.putText(img_rgb, label, (x1, y1-10), cv2.FONT_HERSHEY_SIMPLEX, 0.9, (36,255,12), 2)\n",
    "        \n",
    "        # upper rack\n",
    "        if (u_x1 <= x2 <= u_x2) and (u_y1 <= y2 <= u_y2):\n",
    "            cv2.putText(img_rgb, 'Person on UPPER RACK', (x1, y2+30), cv2.FONT_HERSHEY_SIMPLEX, 0.9, (0,0,255), 2)\n",
    "            print('person on upper rack')\n",
    "\n",
    "        # lower rack  \n",
    "        if (l_x1 <= x2 <= l_x2) and (l_y1 <= y2 <= l_y2):\n",
    "            cv2.putText(img_rgb, 'Person on LOWER RACK', (x1, y2+30), cv2.FONT_HERSHEY_SIMPLEX, 0.9, (0,0,255), 2)\n",
    "            print('person on lower rack')\n",
    "        \n",
    "        cv2.imwrite(f'{file}_output.jpg', img_rgb)"
   ]
  },
  {
   "cell_type": "code",
   "execution_count": null,
   "metadata": {},
   "outputs": [],
   "source": []
  },
  {
   "cell_type": "code",
   "execution_count": null,
   "metadata": {},
   "outputs": [],
   "source": []
  },
  {
   "cell_type": "code",
   "execution_count": null,
   "metadata": {},
   "outputs": [],
   "source": []
  },
  {
   "cell_type": "code",
   "execution_count": null,
   "metadata": {},
   "outputs": [],
   "source": []
  },
  {
   "cell_type": "markdown",
   "metadata": {},
   "source": [
    "<hr>"
   ]
  },
  {
   "cell_type": "code",
   "execution_count": null,
   "metadata": {},
   "outputs": [],
   "source": [
    "# 예측하기 ------------------------------------------------------------------------------\n",
    "\n",
    "# img_file = \"01frame_12696.jpg\"\n",
    "# results = model.predict(source = img_file, save=True, conf=0.25)\n",
    "\n",
    "\n",
    "# 비디오 예측 ---------------------------------------------------------------------------\n",
    "\n",
    "# video_file = \"20231129115714.avi\"\n",
    "# results = model.predict(source= video_file, save=True, conf=0.25)\n",
    "\n",
    "\n",
    "# 웹캠 예측  ----------------------------------------------------------------------------\n",
    "\n",
    "# results = model.predict(source='0', save=True, conf=0.25)  # 0은 기본 웹캠을 의미\n",
    "\n",
    "\n",
    "\n",
    "\n",
    "# source : 예측할 이미지, 비디오 또는 웹캠의 경로나 인덱스를 지정\n",
    "# save : 예측 결과 저장 여부\n",
    "# conf : 예측 결과의 신뢰도 임계값을 지정함 "
   ]
  }
 ],
 "metadata": {
  "kernelspec": {
   "display_name": "TORCH_NLP38",
   "language": "python",
   "name": "python3"
  },
  "language_info": {
   "codemirror_mode": {
    "name": "ipython",
    "version": 3
   },
   "file_extension": ".py",
   "mimetype": "text/x-python",
   "name": "python",
   "nbconvert_exporter": "python",
   "pygments_lexer": "ipython3",
   "version": "3.8.19"
  }
 },
 "nbformat": 4,
 "nbformat_minor": 2
}
