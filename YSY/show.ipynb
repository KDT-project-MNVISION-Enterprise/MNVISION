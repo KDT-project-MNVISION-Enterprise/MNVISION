{
 "cells": [
  {
   "cell_type": "markdown",
   "metadata": {},
   "source": [
    "#### 모델 시연해보기 (알림 발생)"
   ]
  },
  {
   "cell_type": "code",
   "execution_count": 2,
   "metadata": {},
   "outputs": [],
   "source": [
    "from ultralytics import YOLO\n",
    "\n",
    "# 저장된 모델 불러오기\n",
    "model = YOLO('./runs/detect/train11/weights/best.onnx')"
   ]
  },
  {
   "cell_type": "code",
   "execution_count": 6,
   "metadata": {},
   "outputs": [
    {
     "name": "stdout",
     "output_type": "stream",
     "text": [
      "\n",
      "image 1/1 C:\\Users\\kdp\\Desktop\\_data\\\\Image\\231221_1600_Cam5_C3\\06frame_11034.jpg: 640x640 1 Trolly, 60.5ms\n",
      "Speed: 17.0ms preprocess, 60.5ms inference, 1699.3ms postprocess per image at shape (1, 3, 640, 640)\n",
      "Results saved to \u001b[1mruns\\detect\\predict2\u001b[0m\n"
     ]
    }
   ],
   "source": [
    "# 예측 수행\n",
    "sample = r\"C:/Users/kdp/Desktop/경북대학교_제공data/이미지/Image/231221_1600_Cam5_C3/06frame_11034.jpg\""
   ]
  },
  {
   "cell_type": "code",
   "execution_count": 13,
   "metadata": {},
   "outputs": [
    {
     "name": "stdout",
     "output_type": "stream",
     "text": [
      "좌표: (719.8492431640625, 72.36795043945312) - (1028.8731689453125, 490.342529296875)\n",
      "라벨: Trolly\n"
     ]
    }
   ],
   "source": [
    "# 예측된 결과에서 좌표값 추출\n",
    "for result in results:\n",
    "    boxes = result.boxes.xyxy.cpu().numpy()\n",
    "    class_ids = result.boxes.cls.cpu().numpy().astype(int)\n",
    "    \n",
    "    for box, class_id in zip(boxes, class_ids):\n",
    "        x1, y1, x2, y2 = box\n",
    "        label = model.names[class_id]\n",
    "        print(f\"좌표: ({x1}, {y1}) - ({x2}, {y2})\")\n",
    "        print(f\"라벨: {label}\")"
   ]
  },
  {
   "cell_type": "code",
   "execution_count": 9,
   "metadata": {},
   "outputs": [],
   "source": [
    "# 알림 신호를 위한 랙의 좌표값 설정하기\n",
    "# cam 5\n",
    "u_x1_5, u_y1_5, u_x2_5, u_y2_5 = 137, 32, 437, 189\n",
    "\n",
    "d_x1_5, d_y1_5, d_x2_5, d_y2_5 = 110, 253, 363, 515"
   ]
  },
  {
   "cell_type": "code",
   "execution_count": null,
   "metadata": {},
   "outputs": [],
   "source": [
    "if label == 'Forklift':\n",
    "    pass"
   ]
  },
  {
   "cell_type": "code",
   "execution_count": null,
   "metadata": {},
   "outputs": [],
   "source": [
    "# 예측하기\n",
    "\n",
    "# img_file = \"01frame_12696.jpg\"\n",
    "# results = model.predict(source = img_file, save=True, conf=0.25)\n",
    "\n",
    "# source : 예측할 이미지, 비디오 또는 웹캠의 경로나 인덱스를 지정\n",
    "# save : 예측 결과 저장 여부\n",
    "# conf : 예측 결과의 신뢰도 임계값을 지정함 "
   ]
  },
  {
   "cell_type": "code",
   "execution_count": null,
   "metadata": {},
   "outputs": [],
   "source": [
    "# 비디오 예측\n",
    "\n",
    "# video_file = \"20231129115714.avi\"\n",
    "# results = model.predict(source= video_file, save=True, conf=0.25)"
   ]
  },
  {
   "cell_type": "code",
   "execution_count": null,
   "metadata": {},
   "outputs": [],
   "source": [
    "# 웹캠 예측\n",
    "\n",
    "# results = model.predict(source='0', save=True, conf=0.25)  # 0은 기본 웹캠을 의미"
   ]
  }
 ],
 "metadata": {
  "kernelspec": {
   "display_name": "Text_017_38",
   "language": "python",
   "name": "python3"
  },
  "language_info": {
   "codemirror_mode": {
    "name": "ipython",
    "version": 3
   },
   "file_extension": ".py",
   "mimetype": "text/x-python",
   "name": "python",
   "nbconvert_exporter": "python",
   "pygments_lexer": "ipython3",
   "version": "3.8.19"
  }
 },
 "nbformat": 4,
 "nbformat_minor": 2
}
