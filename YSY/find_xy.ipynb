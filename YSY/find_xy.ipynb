{
 "cells": [
  {
   "cell_type": "code",
   "execution_count": 9,
   "metadata": {},
   "outputs": [],
   "source": [
    "import cv2\n",
    "\n",
    "# 마우스 클릭 이벤트 콜백 함수\n",
    "def mouse_callback(event, x, y, flags, param):\n",
    "    # 마우스 왼쪽 버튼을 클릭 시 좌표 값 나옴\n",
    "    if event == cv2.EVENT_LBUTTONDOWN:\n",
    "        print(f\"마우스 좌클릭: ({x}, {y})\")\n",
    "\n",
    "action = False\n",
    "\n",
    "if action : \n",
    "    # 이미지 파일 읽기\n",
    "    file = \"01frame_12582.jpg\"\n",
    "    image = cv2.imread(file)\n",
    "\n",
    "    # 윈도우 생성 및 이미지 표시\n",
    "    cv2.namedWindow(\"image\")\n",
    "    cv2.imshow(\"image\", image)\n",
    "\n",
    "    # 마우스 이벤트 콜백 함수 등록\n",
    "    cv2.setMouseCallback(\"image\", mouse_callback)\n",
    "\n",
    "    # 키 입력 대기\n",
    "    cv2.waitKey(0)\n",
    "\n",
    "    # 윈도우 종료\n",
    "    cv2.destroyAllWindows() "
   ]
  },
  {
   "cell_type": "markdown",
   "metadata": {},
   "source": [
    "### CAM 5\n",
    "위쪽 랙의 꼭지점 좌표값\n",
    "- 마우스 좌클릭: (437, 32) = 우 상 의 꼭지점\n",
    "- 마우스 좌클릭: (137, 189) = 좌 하 의 꼭지점\n",
    "\n",
    "아래쪽 랙의 꼭지점 좌표값\n",
    "- 마우스 좌클릭: (363, 515) = 우 하의 꼭지점\n",
    "- 마우스 좌클릭: (110, 253) = 좌 상의 꼭지점"
   ]
  },
  {
   "cell_type": "code",
   "execution_count": 10,
   "metadata": {},
   "outputs": [],
   "source": [
    "action = False\n",
    "\n",
    "if action : \n",
    "    # 이미지 파일 읽기\n",
    "    file = \"00frame_14622.jpg\"\n",
    "    image = cv2.imread(file)\n",
    "\n",
    "    # 윈도우 생성 및 이미지 표시\n",
    "    cv2.namedWindow(\"image\")\n",
    "    cv2.imshow(\"image\", image)\n",
    "\n",
    "    # 마우스 이벤트 콜백 함수 등록\n",
    "    cv2.setMouseCallback(\"image\", mouse_callback)\n",
    "\n",
    "    # 키 입력 대기\n",
    "    cv2.waitKey(0)\n",
    "\n",
    "    # 윈도우 종료\n",
    "    cv2.destroyAllWindows()"
   ]
  },
  {
   "cell_type": "markdown",
   "metadata": {},
   "source": [
    "### CAM 6 \n",
    "위쪽 랙의 꼭지점 좌표값\n",
    "- 마우스 좌클릭: (866, 294) = 좌 상의 꼭지점\n",
    "- 마우스 좌클릭: (1111, 33) = 우 하의 꼭지점\n",
    "\n",
    "아래쪽 랙의 꼭지점 좌표값\n",
    "- 마우스 좌클릭: (897, 293) = 좌 상의 꼭지점\n",
    "- 마우스 좌클릭: (1232, 547) = 우 하의 꼭지점"
   ]
  },
  {
   "cell_type": "code",
   "execution_count": null,
   "metadata": {},
   "outputs": [],
   "source": []
  }
 ],
 "metadata": {
  "kernelspec": {
   "display_name": "TORCH_NLP38",
   "language": "python",
   "name": "python3"
  },
  "language_info": {
   "codemirror_mode": {
    "name": "ipython",
    "version": 3
   },
   "file_extension": ".py",
   "mimetype": "text/x-python",
   "name": "python",
   "nbconvert_exporter": "python",
   "pygments_lexer": "ipython3",
   "version": "3.8.19"
  }
 },
 "nbformat": 4,
 "nbformat_minor": 2
}
