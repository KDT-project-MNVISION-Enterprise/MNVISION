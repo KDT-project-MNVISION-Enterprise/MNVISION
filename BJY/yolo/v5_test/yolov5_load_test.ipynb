{
 "cells": [
  {
   "cell_type": "code",
   "execution_count": 1,
   "metadata": {},
   "outputs": [
    {
     "name": "stdout",
     "output_type": "stream",
     "text": [
      "3.8.19 (default, Mar 20 2024, 19:55:45) [MSC v.1916 64 bit (AMD64)]\n"
     ]
    }
   ],
   "source": [
    "### Python 버전 확인\n",
    "import sys\n",
    "print(sys.version)"
   ]
  },
  {
   "cell_type": "code",
   "execution_count": 2,
   "metadata": {},
   "outputs": [
    {
     "name": "stdout",
     "output_type": "stream",
     "text": [
      "2.2.2\n"
     ]
    }
   ],
   "source": [
    "### PyTorch 버전 확인\n",
    "import torch\n",
    "print(torch.__version__)"
   ]
  },
  {
   "cell_type": "code",
   "execution_count": 3,
   "metadata": {},
   "outputs": [],
   "source": [
    "###  YOLOv5 종속 항목 설치\n",
    "# !pip install -qr https://raw.githubusercontent.com/ultralytics/yolov5/master/requirements.txt"
   ]
  },
  {
   "cell_type": "code",
   "execution_count": 4,
   "metadata": {},
   "outputs": [
    {
     "name": "stderr",
     "output_type": "stream",
     "text": [
      "Using cache found in C:\\Users\\kdp/.cache\\torch\\hub\\ultralytics_yolov5_master\n",
      "YOLOv5  2024-5-13 Python-3.8.19 torch-2.2.2 CPU\n",
      "\n",
      "Fusing layers... \n",
      "YOLOv5s summary: 213 layers, 7225885 parameters, 0 gradients, 16.4 GFLOPs\n",
      "Adding AutoShape... \n"
     ]
    }
   ],
   "source": [
    "### 모델 로딩 (YOLOv5는 Ultralytics가 개발함)\n",
    "model = torch.hub.load('ultralytics/yolov5', 'yolov5s', pretrained=True)"
   ]
  },
  {
   "cell_type": "code",
   "execution_count": 5,
   "metadata": {},
   "outputs": [],
   "source": [
    "def change_img_path_format(img_path_list: list):\n",
    "    ### 리스트를 넘겨받았으므로 원본 리스트 변경됨\n",
    "    for i, path in enumerate(img_path_list):\n",
    "        img_path_list[i] = path.replace('\\\\', '/')"
   ]
  },
  {
   "cell_type": "code",
   "execution_count": 6,
   "metadata": {},
   "outputs": [],
   "source": [
    "### 이미지\n",
    "test_img = [r\"C:\\Users\\kdp\\Documents\\카카오톡 받은 파일\\KakaoTalk_20240327_145348451.jpg\",\n",
    "            r\"C:\\Users\\kdp\\Documents\\카카오톡 받은 파일\\KakaoTalk_20240418_212636047.jpg\",\n",
    "            r\"C:\\Users\\kdp\\Documents\\카카오톡 받은 파일\\KakaoTalk_20240509_111738281.jpg\",\n",
    "            r\"C:\\Users\\kdp\\Documents\\카카오톡 받은 파일\\KakaoTalk_20240513_121528324.jpg\"]\n",
    "change_img_path_format(test_img)\n",
    "### 추론\n",
    "results = model(test_img)"
   ]
  },
  {
   "cell_type": "code",
   "execution_count": 7,
   "metadata": {},
   "outputs": [],
   "source": [
    "import pandas as pd"
   ]
  },
  {
   "cell_type": "code",
   "execution_count": 8,
   "metadata": {},
   "outputs": [
    {
     "data": {
      "text/html": [
       "<div>\n",
       "<style scoped>\n",
       "    .dataframe tbody tr th:only-of-type {\n",
       "        vertical-align: middle;\n",
       "    }\n",
       "\n",
       "    .dataframe tbody tr th {\n",
       "        vertical-align: top;\n",
       "    }\n",
       "\n",
       "    .dataframe thead th {\n",
       "        text-align: right;\n",
       "    }\n",
       "</style>\n",
       "<table border=\"1\" class=\"dataframe\">\n",
       "  <thead>\n",
       "    <tr style=\"text-align: right;\">\n",
       "      <th></th>\n",
       "      <th>xmin</th>\n",
       "      <th>ymin</th>\n",
       "      <th>xmax</th>\n",
       "      <th>ymax</th>\n",
       "      <th>confidence</th>\n",
       "      <th>class</th>\n",
       "      <th>name</th>\n",
       "    </tr>\n",
       "  </thead>\n",
       "  <tbody>\n",
       "    <tr>\n",
       "      <th>0</th>\n",
       "      <td>1695.957275</td>\n",
       "      <td>444.750427</td>\n",
       "      <td>2394.291748</td>\n",
       "      <td>1733.318970</td>\n",
       "      <td>0.916008</td>\n",
       "      <td>0</td>\n",
       "      <td>person</td>\n",
       "    </tr>\n",
       "    <tr>\n",
       "      <th>1</th>\n",
       "      <td>0.000000</td>\n",
       "      <td>1362.457275</td>\n",
       "      <td>649.934998</td>\n",
       "      <td>1835.452271</td>\n",
       "      <td>0.790483</td>\n",
       "      <td>63</td>\n",
       "      <td>laptop</td>\n",
       "    </tr>\n",
       "    <tr>\n",
       "      <th>2</th>\n",
       "      <td>782.537476</td>\n",
       "      <td>1343.586914</td>\n",
       "      <td>1219.852905</td>\n",
       "      <td>1786.468018</td>\n",
       "      <td>0.716876</td>\n",
       "      <td>63</td>\n",
       "      <td>laptop</td>\n",
       "    </tr>\n",
       "    <tr>\n",
       "      <th>3</th>\n",
       "      <td>3128.956543</td>\n",
       "      <td>1310.330811</td>\n",
       "      <td>3650.508545</td>\n",
       "      <td>1662.390381</td>\n",
       "      <td>0.676710</td>\n",
       "      <td>63</td>\n",
       "      <td>laptop</td>\n",
       "    </tr>\n",
       "    <tr>\n",
       "      <th>4</th>\n",
       "      <td>568.475952</td>\n",
       "      <td>1330.461182</td>\n",
       "      <td>863.204895</td>\n",
       "      <td>1666.887695</td>\n",
       "      <td>0.580071</td>\n",
       "      <td>63</td>\n",
       "      <td>laptop</td>\n",
       "    </tr>\n",
       "    <tr>\n",
       "      <th>5</th>\n",
       "      <td>42.300571</td>\n",
       "      <td>1088.095459</td>\n",
       "      <td>424.167206</td>\n",
       "      <td>1359.231567</td>\n",
       "      <td>0.526831</td>\n",
       "      <td>0</td>\n",
       "      <td>person</td>\n",
       "    </tr>\n",
       "    <tr>\n",
       "      <th>6</th>\n",
       "      <td>0.232029</td>\n",
       "      <td>865.948120</td>\n",
       "      <td>208.237411</td>\n",
       "      <td>1353.682373</td>\n",
       "      <td>0.510691</td>\n",
       "      <td>0</td>\n",
       "      <td>person</td>\n",
       "    </tr>\n",
       "    <tr>\n",
       "      <th>7</th>\n",
       "      <td>835.403625</td>\n",
       "      <td>1742.949341</td>\n",
       "      <td>991.134277</td>\n",
       "      <td>1827.163696</td>\n",
       "      <td>0.503730</td>\n",
       "      <td>64</td>\n",
       "      <td>mouse</td>\n",
       "    </tr>\n",
       "    <tr>\n",
       "      <th>8</th>\n",
       "      <td>2800.089355</td>\n",
       "      <td>1424.838257</td>\n",
       "      <td>2853.341797</td>\n",
       "      <td>1584.580322</td>\n",
       "      <td>0.310133</td>\n",
       "      <td>39</td>\n",
       "      <td>bottle</td>\n",
       "    </tr>\n",
       "    <tr>\n",
       "      <th>9</th>\n",
       "      <td>3308.660156</td>\n",
       "      <td>1804.711182</td>\n",
       "      <td>3480.470459</td>\n",
       "      <td>1848.000000</td>\n",
       "      <td>0.253912</td>\n",
       "      <td>64</td>\n",
       "      <td>mouse</td>\n",
       "    </tr>\n",
       "  </tbody>\n",
       "</table>\n",
       "</div>"
      ],
      "text/plain": [
       "          xmin         ymin         xmax         ymax  confidence  class  \\\n",
       "0  1695.957275   444.750427  2394.291748  1733.318970    0.916008      0   \n",
       "1     0.000000  1362.457275   649.934998  1835.452271    0.790483     63   \n",
       "2   782.537476  1343.586914  1219.852905  1786.468018    0.716876     63   \n",
       "3  3128.956543  1310.330811  3650.508545  1662.390381    0.676710     63   \n",
       "4   568.475952  1330.461182   863.204895  1666.887695    0.580071     63   \n",
       "5    42.300571  1088.095459   424.167206  1359.231567    0.526831      0   \n",
       "6     0.232029   865.948120   208.237411  1353.682373    0.510691      0   \n",
       "7   835.403625  1742.949341   991.134277  1827.163696    0.503730     64   \n",
       "8  2800.089355  1424.838257  2853.341797  1584.580322    0.310133     39   \n",
       "9  3308.660156  1804.711182  3480.470459  1848.000000    0.253912     64   \n",
       "\n",
       "     name  \n",
       "0  person  \n",
       "1  laptop  \n",
       "2  laptop  \n",
       "3  laptop  \n",
       "4  laptop  \n",
       "5  person  \n",
       "6  person  \n",
       "7   mouse  \n",
       "8  bottle  \n",
       "9   mouse  "
      ]
     },
     "execution_count": 8,
     "metadata": {},
     "output_type": "execute_result"
    }
   ],
   "source": [
    "results.pandas().xyxy[0]"
   ]
  },
  {
   "cell_type": "code",
   "execution_count": 9,
   "metadata": {},
   "outputs": [],
   "source": [
    "### 이미지 객체 탐지 결과 확인\n",
    "# results.show()"
   ]
  },
  {
   "cell_type": "code",
   "execution_count": null,
   "metadata": {},
   "outputs": [],
   "source": []
  }
 ],
 "metadata": {
  "kernelspec": {
   "display_name": "Text_017_220_38",
   "language": "python",
   "name": "python3"
  },
  "language_info": {
   "codemirror_mode": {
    "name": "ipython",
    "version": 3
   },
   "file_extension": ".py",
   "mimetype": "text/x-python",
   "name": "python",
   "nbconvert_exporter": "python",
   "pygments_lexer": "ipython3",
   "version": "3.8.19"
  }
 },
 "nbformat": 4,
 "nbformat_minor": 2
}
