{
 "cells": [
  {
   "cell_type": "code",
   "execution_count": 1,
   "metadata": {},
   "outputs": [
    {
     "data": {
      "text/plain": [
       "'2.2.2'"
      ]
     },
     "execution_count": 1,
     "metadata": {},
     "output_type": "execute_result"
    }
   ],
   "source": [
    "import torch\n",
    "torch.__version__"
   ]
  },
  {
   "cell_type": "code",
   "execution_count": 2,
   "metadata": {},
   "outputs": [
    {
     "data": {
      "text/plain": [
       "'0.17.2'"
      ]
     },
     "execution_count": 2,
     "metadata": {},
     "output_type": "execute_result"
    }
   ],
   "source": [
    "import torchvision\n",
    "torchvision.__version__"
   ]
  },
  {
   "cell_type": "code",
   "execution_count": 3,
   "metadata": {},
   "outputs": [],
   "source": [
    "from ultralytics import SAM\n",
    "\n",
    "# Load the model\n",
    "model = SAM('mobile_sam.pt')"
   ]
  },
  {
   "cell_type": "code",
   "execution_count": 4,
   "metadata": {},
   "outputs": [
    {
     "name": "stdout",
     "output_type": "stream",
     "text": [
      "\n",
      "image 1/1 c:\\Users\\DELL-PC\\Desktop\\BJY\\MobileSAM\\two_cats.jpg: 1024x1024 1 0, 1 1, 1 2, 1 3, 1 4, 1 5, 1 6, 1 7, 1 8, 1 9, 1 10, 1 11, 1 12, 1 13, 1 14, 1 15, 1 16, 1 17, 1 18, 4122.9ms\n",
      "Speed: 1133.4ms preprocess, 4122.9ms inference, 1.0ms postprocess per image at shape (1, 3, 1024, 1024)\n"
     ]
    },
    {
     "data": {
      "text/plain": [
       "[ultralytics.engine.results.Results object with attributes:\n",
       " \n",
       " boxes: ultralytics.engine.results.Boxes object\n",
       " keypoints: None\n",
       " masks: ultralytics.engine.results.Masks object\n",
       " names: {0: '0', 1: '1', 2: '2', 3: '3', 4: '4', 5: '5', 6: '6', 7: '7', 8: '8', 9: '9', 10: '10', 11: '11', 12: '12', 13: '13', 14: '14', 15: '15', 16: '16', 17: '17', 18: '18'}\n",
       " obb: None\n",
       " orig_img: array([[[ 56,  25, 140],\n",
       "         [ 67,  25, 144],\n",
       "         [ 73,  24, 146],\n",
       "         ...,\n",
       "         [ 38,  16,  94],\n",
       "         [ 39,  13, 107],\n",
       "         [ 33,  10, 102]],\n",
       " \n",
       "        [[ 57,  22, 138],\n",
       "         [ 49,  26, 142],\n",
       "         [ 48,  20, 139],\n",
       "         ...,\n",
       "         [ 36,  11, 103],\n",
       "         [ 42,  17, 115],\n",
       "         [ 31,  13,  96]],\n",
       " \n",
       "        [[ 42,  22, 135],\n",
       "         [ 59,  33, 150],\n",
       "         [ 53,  23, 142],\n",
       "         ...,\n",
       "         [ 32,   8, 103],\n",
       "         [ 39,  19, 108],\n",
       "         [ 26,  10,  93]],\n",
       " \n",
       "        ...,\n",
       " \n",
       "        [[190, 100, 237],\n",
       "         [196,  84, 225],\n",
       "         [203,  96, 236],\n",
       "         ...,\n",
       "         [131,  47, 171],\n",
       "         [144,  62, 181],\n",
       "         [110,  28, 147]],\n",
       " \n",
       "        [[221,  84, 230],\n",
       "         [213,  80, 226],\n",
       "         [202,  99, 238],\n",
       "         ...,\n",
       "         [ 62,  24, 114],\n",
       "         [ 46,   5, 103],\n",
       "         [ 44,   9,  89]],\n",
       " \n",
       "        [[175, 100, 238],\n",
       "         [191, 109, 246],\n",
       "         [214,  96, 238],\n",
       "         ...,\n",
       "         [ 29,  13,  74],\n",
       "         [ 44,  25,  74],\n",
       "         [ 42,  17,  73]]], dtype=uint8)\n",
       " orig_shape: (480, 640)\n",
       " path: 'c:\\\\Users\\\\DELL-PC\\\\Desktop\\\\BJY\\\\MobileSAM\\\\two_cats.jpg'\n",
       " probs: None\n",
       " save_dir: 'runs\\\\segment\\\\predict'\n",
       " speed: {'preprocess': 1133.4455013275146, 'inference': 4122.853994369507, 'postprocess': 1.0004043579101562}]"
      ]
     },
     "execution_count": 4,
     "metadata": {},
     "output_type": "execute_result"
    }
   ],
   "source": [
    "model('two_cats.jpg')"
   ]
  },
  {
   "cell_type": "code",
   "execution_count": null,
   "metadata": {},
   "outputs": [],
   "source": []
  }
 ],
 "metadata": {
  "kernelspec": {
   "display_name": "Torch_38",
   "language": "python",
   "name": "python3"
  },
  "language_info": {
   "codemirror_mode": {
    "name": "ipython",
    "version": 3
   },
   "file_extension": ".py",
   "mimetype": "text/x-python",
   "name": "python",
   "nbconvert_exporter": "python",
   "pygments_lexer": "ipython3",
   "version": "3.8.19"
  }
 },
 "nbformat": 4,
 "nbformat_minor": 2
}
