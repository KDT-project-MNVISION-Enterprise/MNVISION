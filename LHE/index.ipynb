{
 "cells": [
  {
   "cell_type": "code",
   "execution_count": 29,
   "metadata": {},
   "outputs": [],
   "source": [
    "import os\n",
    "\n",
    "# 시작과 끝 파일의 인덱스\n",
    "start_index = 2503\n",
    "end_index = 2510\n",
    "\n",
    "# 다녀와서 처리 할 내용 : 잘못 입력된 거 삭제.!!\n",
    "# 추가할 내용\n",
    "content_to_add = \"2 0.354687 0.386806 0.375000 0.584722\""
   ]
  },
  {
   "cell_type": "code",
   "execution_count": 30,
   "metadata": {},
   "outputs": [
    {
     "data": {
      "text/plain": [
       "True"
      ]
     },
     "execution_count": 30,
     "metadata": {},
     "output_type": "execute_result"
    }
   ],
   "source": [
    "os.path.exists('../../경북대학교/이미지/이화은2')"
   ]
  },
  {
   "cell_type": "code",
   "execution_count": 31,
   "metadata": {},
   "outputs": [],
   "source": [
    "# 파일들을 찾아서 반복\n",
    "directory = '../../경북대학교/이미지/이화은2' # 파일들이 있는 디렉터리 경로"
   ]
  },
  {
   "cell_type": "code",
   "execution_count": 32,
   "metadata": {},
   "outputs": [
    {
     "name": "stdout",
     "output_type": "stream",
     "text": [
      "작업 완료\n"
     ]
    }
   ],
   "source": [
    "# for filename in os.listdir(directory):\n",
    "#     if filename.endswith(\".txt\"):\n",
    "#         file_index_str = filename.split('(')[-1].split(')')[0]  # 파일 이름에서 인덱스 추출\n",
    "#         if file_index_str.isdigit():  # 파일 이름에 숫자가 포함되어 있는지 확인\n",
    "#             file_index = int(file_index_str)\n",
    "#             if start_index <= file_index <= end_index:\n",
    "#                 with open(os.path.join(directory, filename), 'a') as file:\n",
    "#                     file.write(content_to_add)\n",
    "\n",
    "# print(\"작업 완료\")"
   ]
  },
  {
   "cell_type": "code",
   "execution_count": 24,
   "metadata": {},
   "outputs": [
    {
     "name": "stdout",
     "output_type": "stream",
     "text": [
      "작업 완료\n"
     ]
    }
   ],
   "source": [
    "# import os\n",
    "\n",
    "# directory = '../../경북대학교/이미지/이화은2'\n",
    "# start_index = 2361\n",
    "# end_index = 2510\n",
    "\n",
    "# # 디렉토리 내 파일들을 하나씩 확인\n",
    "# for filename in os.listdir(directory):\n",
    "#     if filename.endswith(\".txt\"):\n",
    "#         file_index_str = filename.split('(')[-1].split(')')[0]  # 파일 이름에서 인덱스 추출\n",
    "#         if file_index_str.isdigit():  # 파일 이름에 숫자가 포함되어 있는지 확인\n",
    "#             file_index = int(file_index_str)\n",
    "#             if start_index <= file_index <= end_index:\n",
    "#                 filepath = os.path.join(directory, filename)\n",
    "#                 # 파일 내용 읽기\n",
    "#                 with open(filepath, 'r') as file:\n",
    "#                     lines = file.readlines()\n",
    "#                 # 마지막 줄 삭제\n",
    "#                 if lines:\n",
    "#                     lines = lines[:-1]\n",
    "#                 # 수정된 내용을 파일에 쓰기\n",
    "#                 with open(filepath, 'w') as file:\n",
    "#                     file.writelines(lines)\n",
    "\n",
    "# print(\"작업 완료\")"
   ]
  },
  {
   "cell_type": "code",
   "execution_count": null,
   "metadata": {},
   "outputs": [],
   "source": []
  }
 ],
 "metadata": {
  "kernelspec": {
   "display_name": "KERAS_PY39",
   "language": "python",
   "name": "python3"
  },
  "language_info": {
   "codemirror_mode": {
    "name": "ipython",
    "version": 3
   },
   "file_extension": ".py",
   "mimetype": "text/x-python",
   "name": "python",
   "nbconvert_exporter": "python",
   "pygments_lexer": "ipython3",
   "version": "3.9.18"
  }
 },
 "nbformat": 4,
 "nbformat_minor": 2
}
