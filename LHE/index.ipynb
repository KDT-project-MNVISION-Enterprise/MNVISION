{
 "cells": [
  {
   "cell_type": "code",
   "execution_count": 4,
   "metadata": {},
   "outputs": [],
   "source": [
    "import os\n",
    "\n",
    "# 시작과 끝 파일의 인덱스\n",
    "start_index = 1404\n",
    "end_index = 1451\n",
    "\n",
    "# 추가할 내용\n",
    "content_to_add = \"\\n2 0.479297 0.209028 0.310156 0.412500\""
   ]
  },
  {
   "cell_type": "code",
   "execution_count": 5,
   "metadata": {},
   "outputs": [
    {
     "data": {
      "text/plain": [
       "True"
      ]
     },
     "execution_count": 5,
     "metadata": {},
     "output_type": "execute_result"
    }
   ],
   "source": [
    "os.path.exists('../../경북대학교/이미지/이화은')"
   ]
  },
  {
   "cell_type": "code",
   "execution_count": 6,
   "metadata": {},
   "outputs": [],
   "source": [
    "# 파일들을 찾아서 반복\n",
    "directory = '../../경북대학교/이미지/이화은' # 파일들이 있는 디렉터리 경로"
   ]
  },
  {
   "cell_type": "code",
   "execution_count": 8,
   "metadata": {},
   "outputs": [
    {
     "name": "stdout",
     "output_type": "stream",
     "text": [
      "작업 완료\n"
     ]
    }
   ],
   "source": [
    "# for filename in os.listdir(directory):\n",
    "#     if filename.endswith(\".txt\"):\n",
    "#         file_index_str = filename.split('(')[-1].split(')')[0]  # 파일 이름에서 인덱스 추출\n",
    "#         if file_index_str.isdigit():  # 파일 이름에 숫자가 포함되어 있는지 확인\n",
    "#             file_index = int(file_index_str)\n",
    "#             if start_index <= file_index <= end_index:\n",
    "#                 with open(os.path.join(directory, filename), 'a') as file:\n",
    "#                     file.write(content_to_add)\n",
    "\n",
    "# print(\"작업 완료\")"
   ]
  },
  {
   "cell_type": "code",
   "execution_count": null,
   "metadata": {},
   "outputs": [],
   "source": []
  }
 ],
 "metadata": {
  "kernelspec": {
   "display_name": "KERAS_PY39",
   "language": "python",
   "name": "python3"
  },
  "language_info": {
   "codemirror_mode": {
    "name": "ipython",
    "version": 3
   },
   "file_extension": ".py",
   "mimetype": "text/x-python",
   "name": "python",
   "nbconvert_exporter": "python",
   "pygments_lexer": "ipython3",
   "version": "3.9.18"
  }
 },
 "nbformat": 4,
 "nbformat_minor": 2
}
